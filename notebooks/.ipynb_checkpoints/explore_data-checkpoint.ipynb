{
 "cells": [
  {
   "cell_type": "code",
   "execution_count": null,
   "id": "6a784573-5a03-418b-aba1-4543cc4b2888",
   "metadata": {},
   "outputs": [],
   "source": [
    "import pandas as pd\n",
    "import matplotlib.pyplot as plt"
   ]
  },
  {
   "cell_type": "code",
   "execution_count": null,
   "id": "57926b4e-eab1-4635-a0cf-cf187dcc8033",
   "metadata": {},
   "outputs": [],
   "source": [
    "df_fake = pd.read_csv(\"../data/raw/Fake.csv\")\n",
    "df_real = pd.read_csv(\"../data/raw/True.csv\")\n"
   ]
  },
  {
   "cell_type": "code",
   "execution_count": null,
   "id": "2ce423d6-d240-4c21-a808-1ad0699871b9",
   "metadata": {},
   "outputs": [],
   "source": [
    "print(df_fake.shape)\n",
    "print(df_real.shape)"
   ]
  },
  {
   "cell_type": "code",
   "execution_count": null,
   "id": "a6ea7c80-47f1-456a-94af-228cabe38d89",
   "metadata": {},
   "outputs": [],
   "source": [
    "df_fake.head()\n",
    "df_real.head()"
   ]
  },
  {
   "cell_type": "code",
   "execution_count": null,
   "id": "189f1972-80dc-4526-8eee-ac43c06fdcdb",
   "metadata": {},
   "outputs": [],
   "source": [
    "df_fake['label'] = 0  # 0 for fake\n",
    "df_real['label'] = 1  # 1 for real\n",
    "df_all = pd.concat([df_fake, df_real], ignore_index=True)"
   ]
  },
  {
   "cell_type": "code",
   "execution_count": null,
   "id": "515b8ebe-3e7f-4d2d-a44d-6efafb1b2267",
   "metadata": {},
   "outputs": [],
   "source": [
    "df_all.isnull().sum()\n",
    "df_all.duplicated().sum()\n",
    "df_all = df_all.drop_duplicates()"
   ]
  },
  {
   "cell_type": "code",
   "execution_count": null,
   "id": "2a7a96d9-0356-4d9b-97a6-5b443b9c1a34",
   "metadata": {},
   "outputs": [],
   "source": [
    "df_all['label'].value_counts()\n",
    "df_all['label'].value_counts(normalize=True)"
   ]
  },
  {
   "cell_type": "code",
   "execution_count": null,
   "id": "e4717c32-be95-4b03-bfb7-9b87fe48c9e8",
   "metadata": {},
   "outputs": [],
   "source": [
    "df_fake['word_count'] = df_all['text'].apply(len)\n",
    "df_fake['word_count'].describe()\n",
    "\n",
    "df_real['word_count'] = df_all['text'].apply(len)\n",
    "df_real['word_count'].describe()\n",
    "\n",
    "plt.hist(df_fake['word_count'], bins=50, alpha=0.6, label='Fake')\n",
    "plt.hist(df_real['word_count'], bins=50, alpha=0.6, label='Real')\n",
    "plt.xlabel(\"Word Count\")\n",
    "plt.ylabel(\"Number of Articles\")\n",
    "plt.legend()\n",
    "plt.title(\"Word Count Distribution in Fake vs Real News\")\n",
    "plt.show()"
   ]
  },
  {
   "cell_type": "code",
   "execution_count": null,
   "id": "ecbc8c49-ec91-40e2-ac98-2642adf670ac",
   "metadata": {},
   "outputs": [],
   "source": [
    "print(\"hi\")"
   ]
  },
  {
   "cell_type": "code",
   "execution_count": null,
   "id": "08f3c888-154a-46d9-a524-5160e779f43f",
   "metadata": {},
   "outputs": [],
   "source": []
  }
 ],
 "metadata": {
  "kernelspec": {
   "display_name": "Python 3 (ipykernel)",
   "language": "python",
   "name": "python3"
  },
  "language_info": {
   "codemirror_mode": {
    "name": "ipython",
    "version": 3
   },
   "file_extension": ".py",
   "mimetype": "text/x-python",
   "name": "python",
   "nbconvert_exporter": "python",
   "pygments_lexer": "ipython3",
   "version": "3.10.2"
  }
 },
 "nbformat": 4,
 "nbformat_minor": 5
}
